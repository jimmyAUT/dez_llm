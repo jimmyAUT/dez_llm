{
 "cells": [
  {
   "cell_type": "code",
   "execution_count": 1,
   "id": "4867d853-69a7-4495-9e41-997ab66eb720",
   "metadata": {},
   "outputs": [],
   "source": [
    "import google.generativeai as genai\n",
    "import os"
   ]
  },
  {
   "cell_type": "code",
   "execution_count": 3,
   "id": "266aa770-08b7-4507-aa67-e7840e814a67",
   "metadata": {},
   "outputs": [],
   "source": [
    "genai.configure(api_key=os.environ.get(\"GEMINI_API_KEY\"))\n",
    "model = genai.GenerativeModel('gemini-2.5-pro')"
   ]
  },
  {
   "cell_type": "code",
   "execution_count": 5,
   "id": "221c2b0b-7983-4cf8-af87-3b63f0abc239",
   "metadata": {},
   "outputs": [
    {
     "name": "stdout",
     "output_type": "stream",
     "text": [
      "Hello! I am a large language model, trained by Google. My core function is to understand and generate human-like text, making me a versatile tool for a wide array of tasks. You can ask me to write a poem, debug code, draft an email, translate languages, or summarize a complex article. I can also act as your creative partner for brainstorming sessions or as an informational resource to answer your questions. I don’t possess personal consciousness or experiences; my knowledge is derived from the data I was trained on. My goal is to assist you helpfully and safely.\n"
     ]
    }
   ],
   "source": [
    "prompt = 'introduce yourself in 100 words'\n",
    "response = model.generate_content(prompt)\n",
    "print(response.text)"
   ]
  },
  {
   "cell_type": "code",
   "execution_count": 7,
   "id": "e2cc129f-4e13-4a81-9a71-43bc476ef007",
   "metadata": {},
   "outputs": [
    {
     "data": {
      "text/plain": [
       "google.generativeai.types.generation_types.GenerateContentResponse"
      ]
     },
     "execution_count": 7,
     "metadata": {},
     "output_type": "execute_result"
    }
   ],
   "source": [
    "type(response)"
   ]
  },
  {
   "cell_type": "code",
   "execution_count": null,
   "id": "9ab25955-9eb0-4df7-85a2-3c05dc5b7c3e",
   "metadata": {},
   "outputs": [],
   "source": []
  }
 ],
 "metadata": {
  "kernelspec": {
   "display_name": "Python 3 (ipykernel)",
   "language": "python",
   "name": "python3"
  },
  "language_info": {
   "codemirror_mode": {
    "name": "ipython",
    "version": 3
   },
   "file_extension": ".py",
   "mimetype": "text/x-python",
   "name": "python",
   "nbconvert_exporter": "python",
   "pygments_lexer": "ipython3",
   "version": "3.12.1"
  }
 },
 "nbformat": 4,
 "nbformat_minor": 5
}
